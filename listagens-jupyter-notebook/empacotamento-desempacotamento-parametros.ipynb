{
 "cells": [
  {
   "cell_type": "markdown",
   "metadata": {},
   "source": [
    "# 8.7 Empacotamento e desempacotamento de parâmetros\n",
    "### Listagem 8.28 - Empacotamento de parâmetros em uma lista"
   ]
  },
  {
   "cell_type": "code",
   "execution_count": 5,
   "metadata": {},
   "outputs": [
    {
     "name": "stdout",
     "output_type": "stream",
     "text": [
      "5\n"
     ]
    }
   ],
   "source": [
    "def soma(a, b):\n",
    "    print(a+b)\n",
    "l = [2, 3]\n",
    "soma(*l)"
   ]
  },
  {
   "cell_type": "markdown",
   "metadata": {},
   "source": [
    "No exemplo **`l[0]`** será atribuido a **`a`** e **`l[1]`** a **`b`**."
   ]
  },
  {
   "cell_type": "markdown",
   "metadata": {},
   "source": [
    "### Listagem 8.29 - Outro exemplo de empacotamento de parâmetros em uma lista"
   ]
  },
  {
   "cell_type": "code",
   "execution_count": 6,
   "metadata": {},
   "outputs": [
    {
     "name": "stdout",
     "output_type": "stream",
     "text": [
      "-----\n",
      "**********\n",
      "*****\n",
      "......\n"
     ]
    }
   ],
   "source": [
    "def barra(n=10, c=\"*\"):\n",
    "    print(c*n)\n",
    "l = [[5,\"-\"], [10, \"*\"], [5], [6, \".\"]]\n",
    "for e in l:\n",
    "    barra(*e)"
   ]
  },
  {
   "cell_type": "markdown",
   "metadata": {},
   "source": [
    "# 8.8 Desempacotamento de parâmetros\n",
    "### Listagem 8.30 - Função soma com número indeterminado de parâmetros"
   ]
  },
  {
   "cell_type": "code",
   "execution_count": 8,
   "metadata": {},
   "outputs": [
    {
     "name": "stdout",
     "output_type": "stream",
     "text": [
      "3\n",
      "2\n",
      "26\n",
      "109\n"
     ]
    }
   ],
   "source": [
    "def soma(*args):\n",
    "    s = 0\n",
    "    for x in args:\n",
    "        s += x\n",
    "    return s\n",
    "print(soma(1, 2))\n",
    "print(soma(2))\n",
    "print(soma(5, 6, 7, 8))\n",
    "print(soma(9, 10, 20, 30, 40))"
   ]
  }
 ],
 "metadata": {
  "kernelspec": {
   "display_name": "Python 3",
   "language": "python",
   "name": "python3"
  },
  "language_info": {
   "codemirror_mode": {
    "name": "ipython",
    "version": 3
   },
   "file_extension": ".py",
   "mimetype": "text/x-python",
   "name": "python",
   "nbconvert_exporter": "python",
   "pygments_lexer": "ipython3",
   "version": "3.6.1"
  }
 },
 "nbformat": 4,
 "nbformat_minor": 2
}
